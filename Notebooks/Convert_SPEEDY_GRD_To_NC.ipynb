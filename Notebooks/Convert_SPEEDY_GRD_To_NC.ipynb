{
 "cells": [
  {
   "cell_type": "markdown",
   "metadata": {},
   "source": [
    "# Data reader Converter"
   ]
  },
  {
   "cell_type": "markdown",
   "metadata": {},
   "source": [
    "## Imports"
   ]
  },
  {
   "cell_type": "code",
   "execution_count": 1,
   "metadata": {
    "ExecuteTime": {
     "end_time": "2020-10-06T02:11:05.535407Z",
     "start_time": "2020-10-06T02:11:05.066408Z"
    }
   },
   "outputs": [],
   "source": [
    "from pathlib import Path\n",
    "\n",
    "import numpy as np\n",
    "import xarray as xr\n",
    "from scipy.interpolate import griddata\n",
    "from netCDF4 import Dataset"
   ]
  },
  {
   "cell_type": "markdown",
   "metadata": {},
   "source": [
    "## Settings"
   ]
  },
  {
   "cell_type": "code",
   "execution_count": 2,
   "metadata": {
    "ExecuteTime": {
     "end_time": "2020-10-06T02:11:07.138099Z",
     "start_time": "2020-10-06T02:11:07.129098Z"
    }
   },
   "outputs": [],
   "source": [
    "PATH = Path.cwd()/'../Data/NOAA/Atmospherical_Conditions'\n",
    "PRESSURE_PATH = Path.cwd()/'../Data/NOAA/Pressure_Conditions'\n",
    "INTERPOLATIONS_PATH = Path.cwd()/'../Data/Interpolations'\n",
    "\n",
    "YEAR = '2020'\n",
    "\n",
    "FILES = [f'uwnd.{YEAR}.nc', f'vwnd.{YEAR}.nc',\n",
    "         f'air.{YEAR}.nc', f'rhum.{YEAR}.nc']"
   ]
  },
  {
   "cell_type": "code",
   "execution_count": 6,
   "metadata": {},
   "outputs": [],
   "source": [
    "# NOAA Default pressure leves\n",
    "PRESSURE_LEVELS_VALUES = [925, 850, 700, 500, 300, 200, 100]\n",
    "\n",
    "# Grids definition for SPEEDY and NOAA\n",
    "X_speedy_lon = np.linspace(0, 360-3.75, 96)\n",
    "Y_speedy_lat = np.array(\"-87.159 -83.479 -79.777 -76.070 -72.362 -68.652 -64.942 -61.232 -57.521 -53.810 -50.099 -46.389 -42.678 -38.967 -35.256 -31.545 -27.833 -24.122 -20.411 -16.700 -12.989 -9.278 -5.567 -1.856 1.856 5.567 9.278 12.989 16.700 20.411 24.122 27.833 31.545 35.256 38.967 42.678 46.389 50.099 53.810 57.521 61.232 64.942 68.652 72.362 76.070 79.777 83.479 87.159\".split(\" \"))\n",
    "Y_speedy_lat = Y_speedy_lat.astype(np.float32)\n",
    "#Y_speedy_lat = np.flipud(Y_speedy_lat)\n",
    "\n",
    "\n",
    "# NOAA latitude goes from North To South\n",
    "X_noaa_lon = np.linspace(0, 360-2.5, 144)\n",
    "Y_noaa_lat = np.linspace(90, -90, 73)\n",
    "X_grid_noaa, Y_grid_noaa = np.meshgrid(X_noaa_lon, Y_noaa_lat)\n",
    "\n",
    "\n",
    "SPEEDY_LON = 96\n",
    "SPEEDY_LAT = 48\n",
    "SPEEDY_LVL = 7\n",
    "\n",
    "\n",
    "NOAA_LON = 144\n",
    "NOAA_LAT = 73\n",
    "\n",
    "INTERPOLATION_VARIABLES = len(FILES)\n",
    "\n",
    "# Temporal setting\n",
    "DATE = '2020-07-01'\n",
    "TIME = '00:00:00'\n",
    "# Time is HH:MM:SS in 24-hours format\n",
    "DATETIME = DATE + 'T' + TIME\n",
    "FILENAME = DATE.replace('-', '') + TIME[:2]\n",
    "\n",
    "IS_CONVERTION_REQUIRED = True\n",
    "# IS_CONVERTION_REQUIRED performs Relative humidity convertion to Specific Humidity, if True.\n",
    "# If not, Relative Humidity is given\n",
    "\n",
    "SAVE_AS_GRD = True\n",
    "# If SAVE_AS_GRD is True, it will convert data into GRD format aditionally to the netCDF files created.\n",
    "# The atmospherical variables are in one netCDF file, and the pressure will be on another file."
   ]
  },
  {
   "cell_type": "markdown",
   "metadata": {},
   "source": [
    "# NOAA convertion"
   ]
  },
  {
   "cell_type": "markdown",
   "metadata": {},
   "source": [
    "Takes NOAA's variable files and join them in one nc file"
   ]
  },
  {
   "cell_type": "code",
   "execution_count": 13,
   "metadata": {},
   "outputs": [],
   "source": [
    "def read_data(variable, file):\n",
    "    '''\n",
    "    Reads nc files from the NOAA. \n",
    "\n",
    "    Parameters\n",
    "    ----------\n",
    "        file : name of the file that contains specific variable.\n",
    "        variable: desired variable to get information\n",
    "\n",
    "    Returns\n",
    "    -------  \n",
    "        variable_array: n-dimensional xarray with the choosen pressure levels for the given variable\n",
    "    '''\n",
    "    variable_path = PATH/file\n",
    "    variable_array = xr.open_dataset(variable_path)[variable].sel(\n",
    "        level=PRESSURE_LEVELS_VALUES,\n",
    "        time=DATETIME)\n",
    "    return variable_array\n",
    "\n",
    "\n",
    "def relative2specific(T, RH, p):\n",
    "    '''\n",
    "    Converts relative humidity to specific humidity\n",
    "\n",
    "    Parameters\n",
    "    ----------\n",
    "        T : Temperature in K.\n",
    "        RH : Relative humidity in percentage [0,100].\n",
    "        p : Preassure in mbar.\n",
    "\n",
    "    Returns\n",
    "    -------\n",
    "        specific humidity (dimensionless)\n",
    "\n",
    "    '''\n",
    "    T -= 273.15\n",
    "    p *= 100\n",
    "    RH /= 100\n",
    "    e_s = 611.21*np.exp((18.687-T/234.5)*(T/(T+257.14)))\n",
    "    e = e_s*RH\n",
    "    w = 287.058/461.5*e/(p-e)\n",
    "    return w/(w+1)"
   ]
  },
  {
   "cell_type": "code",
   "execution_count": 8,
   "metadata": {},
   "outputs": [],
   "source": [
    "atmospherical_variables = dict()\n",
    "\n",
    "for file in FILES:\n",
    "    variable = file.split(\".\")[0]\n",
    "    variable_values_by_level = np.zeros((SPEEDY_LVL, NOAA_LAT, NOAA_LON))\n",
    "\n",
    "    variable_array = read_data(variable, file)\n",
    "\n",
    "    for index_pressure_level, pressure in enumerate(PRESSURE_LEVELS_VALUES):\n",
    "        variable_values_by_level[index_pressure_level, :,\n",
    "                                 :] = variable_array.sel(level=pressure).values\n",
    "\n",
    "    atmospherical_variables[variable] = variable_values_by_level"
   ]
  },
  {
   "cell_type": "code",
   "execution_count": null,
   "metadata": {},
   "outputs": [],
   "source": [
    "atmospherical_variables_to_netcdf = dict()\n",
    "pressure_to_netcdf = dict()\n",
    "\n",
    "for key, value in atmospherical_variables.items():\n",
    "    atmospherical_variables_to_netcdf[key] = ((\"level\", \"lat\", \"lon\"), value)"
   ]
  },
  {
   "cell_type": "markdown",
   "metadata": {},
   "source": [
    "## Save Dataset"
   ]
  },
  {
   "cell_type": "markdown",
   "metadata": {},
   "source": [
    "Dataset (variables and pression) are stores in a separated way."
   ]
  },
  {
   "cell_type": "code",
   "execution_count": null,
   "metadata": {},
   "outputs": [],
   "source": [
    "atmospherical_dataset = xr.Dataset(\n",
    "    atmospherical_variables_to_netcdf, coords={\n",
    "        \"level\": PRESSURE_LEVELS_VALUES,\n",
    "        \"lat\": Y_noaa_lat,\n",
    "        \"lon\": X_noaa_lon,\n",
    "    },\n",
    "    attrs={\n",
    "        'long_name': '6-Hourly Sample',\n",
    "        'Levels': 7,\n",
    "        'dataset': 'NCEP/DOE AMIP-II Reanalysis (Reanalysis-2)',\n",
    "        'level_desc': 'Surface',\n",
    "        'statistic': 'Individual Obs',\n",
    "    },\n",
    ")"
   ]
  },
  {
   "cell_type": "code",
   "execution_count": null,
   "metadata": {},
   "outputs": [],
   "source": [
    "atmospherical_dataset.to_netcdf(INTERPOLATIONS_PATH/(\"NOAA-\" + FILENAME + \"-atmospherical_dataset.nc\"))"
   ]
  },
  {
   "cell_type": "markdown",
   "metadata": {},
   "source": [
    "# SPEEDY convertion"
   ]
  },
  {
   "cell_type": "code",
   "execution_count": null,
   "metadata": {},
   "outputs": [],
   "source": [
    "def read_grd(filename):\n",
    "    # 1 Forecast, 0 Real\n",
    "\n",
    "    infile = open(filename, \"rb\")\n",
    "    data = np.fromfile(infile, '>f4')\n",
    "    l = 0\n",
    "    U = np.empty([nlev, nlat, nlon])\n",
    "    for k in range(nlev):\n",
    "        for j in range(nlat):\n",
    "            for i in range(nlon):\n",
    "                U[k, j, i] = data[l]\n",
    "                l = l+1\n",
    "\n",
    "    V = np.empty([nlev, nlat, nlon])\n",
    "    for k in range(nlev):\n",
    "        for j in range(nlat):\n",
    "            for i in range(nlon):\n",
    "                V[k, j, i] = data[l]\n",
    "                l = l+1\n",
    "\n",
    "    T = np.empty([nlev, nlat, nlon])\n",
    "    for k in range(nlev):\n",
    "        for j in range(nlat):\n",
    "            for i in range(nlon):\n",
    "                T[k, j, i] = data[l]\n",
    "                l = l+1\n",
    "\n",
    "    SH = np.empty([nlev, nlat, nlon])\n",
    "    for k in range(nlev):\n",
    "        for j in range(nlat):\n",
    "            for i in range(nlon):\n",
    "                SH[k, j, i] = data[l]\n",
    "                l = l+1\n",
    "\n",
    "    P = np.empty([nlat, nlon])\n",
    "    for j in range(nlat):  # range(nlat-1,-1,-1): #range(nlat):\n",
    "        for i in range(nlon):\n",
    "            P[j, i] = data[l]\n",
    "            l = l+1\n",
    "    return U, V, T, SH, P"
   ]
  },
  {
   "cell_type": "code",
   "execution_count": null,
   "metadata": {},
   "outputs": [],
   "source": [
    "FORECASTED_PATH = Path.cwd()/'../Data/SPEEDY'\n",
    "FORECASTED_FILES = [k.name for k in FORECASTED_PATH.rglob('*.grd')]\n",
    "nlon = 96\n",
    "nlat = 48\n",
    "nlev = 7\n",
    "[U_SPEEDY, V_SPEEDY, T_SPEEDY, SH_SPEEDY, P_SPEEDY] = read_grd(\n",
    "    FORECASTED_PATH/FORECASTED_FILES[2])\n",
    "variables_SPEEDY = dict()\n",
    "variables_SPEEDY['uwnd'] = U_SPEEDY\n",
    "variables_SPEEDY['vwnd'] = V_SPEEDY\n",
    "variables_SPEEDY['temperature'] = T_SPEEDY\n",
    "variables_SPEEDY['shum'] = SH_SPEEDY\n",
    "variables_SPEEDY['pres'] = P_SPEEDY"
   ]
  },
  {
   "cell_type": "code",
   "execution_count": null,
   "metadata": {},
   "outputs": [],
   "source": [
    "SPEEDY_atmospherical_variables_to_netcdf = dict()\n",
    "pressure = variables_SPEEDY.pop('pres', None)\n",
    "\n",
    "for key, value in variables_SPEEDY.items():\n",
    "    SPEEDY_atmospherical_variables_to_netcdf[key] = (\n",
    "        (\"level\", \"lat\", \"lon\"), value)"
   ]
  },
  {
   "cell_type": "code",
   "execution_count": null,
   "metadata": {},
   "outputs": [],
   "source": [
    "speedy_atmospherical_dataset = xr.Dataset(\n",
    "    SPEEDY_atmospherical_variables_to_netcdf, coords={\n",
    "        \"level\": PRESSURE_LEVELS_VALUES,\n",
    "        \"lat\": Y_speedy_lat,\n",
    "        \"lon\": X_speedy_lon,\n",
    "    },\n",
    "    attrs={\n",
    "        'long_name': '6-Hourly Sample',\n",
    "        'Levels': 7,\n",
    "        'dataset': 'NCEP/DOE AMIP-II Reanalysis (Reanalysis-2)',\n",
    "        'level_desc': 'Surface',\n",
    "        'statistic': 'Individual Obs',\n",
    "    },\n",
    ")"
   ]
  },
  {
   "cell_type": "code",
   "execution_count": null,
   "metadata": {},
   "outputs": [],
   "source": [
    "speedy_atmospherical_dataset"
   ]
  },
  {
   "cell_type": "code",
   "execution_count": null,
   "metadata": {},
   "outputs": [],
   "source": [
    "SPEEDY_pressure_to_netcdf = dict()\n",
    "SPEEDY_pressure_to_netcdf['pres'] = ((\"lat\", \"lon\"), pressure)\n",
    "SPEEDY_pressure_dataset = xr.Dataset(\n",
    "    SPEEDY_pressure_to_netcdf, coords={\n",
    "        \"lat\": Y_speedy_lat,\n",
    "        \"lon\": X_speedy_lon,\n",
    "    },\n",
    "    attrs={\n",
    "        'long_name': '6-Hourly Pressure at Surface',\n",
    "        'Levels': 1,\n",
    "        'units': 'Pascals',\n",
    "        'precision': -1,\n",
    "        'GRIB_id': 1,\n",
    "        'GRIB_name': 'PRES',\n",
    "        'var_desc': 'Pressure',\n",
    "        'dataset': 'NCEP/DOE AMIP-II Reanalysis (Reanalysis-2)',\n",
    "        'level_desc': 'Surface',\n",
    "        'statistic': 'Individual Obs',\n",
    "        'parent_stat': 'Other',\n",
    "        'standard_name': 'pressure',\n",
    "    },\n",
    ")"
   ]
  },
  {
   "cell_type": "code",
   "execution_count": null,
   "metadata": {},
   "outputs": [],
   "source": [
    "SPEEDY_pressure_dataset"
   ]
  },
  {
   "cell_type": "code",
   "execution_count": null,
   "metadata": {},
   "outputs": [],
   "source": [
    "speedy_atmospherical_dataset.to_netcdf(\n",
    "    INTERPOLATIONS_PATH/('SPEEDY-'+FILENAME + \"-atmospherical_dataset.nc\"))\n",
    "SPEEDY_pressure_dataset.to_netcdf(\n",
    "    INTERPOLATIONS_PATH/('SPEEDY-'+FILENAME + \"-pressure_dataset.nc\"))"
   ]
  }
 ],
 "metadata": {
  "kernelspec": {
   "display_name": "Python 3",
   "language": "python",
   "name": "python3"
  },
  "language_info": {
   "codemirror_mode": {
    "name": "ipython",
    "version": 3
   },
   "file_extension": ".py",
   "mimetype": "text/x-python",
   "name": "python",
   "nbconvert_exporter": "python",
   "pygments_lexer": "ipython3",
   "version": "3.7.7"
  },
  "toc": {
   "base_numbering": 1,
   "nav_menu": {},
   "number_sections": true,
   "sideBar": true,
   "skip_h1_title": false,
   "title_cell": "Table of Contents",
   "title_sidebar": "Contents",
   "toc_cell": false,
   "toc_position": {
    "height": "calc(100% - 180px)",
    "left": "10px",
    "top": "150px",
    "width": "180.2px"
   },
   "toc_section_display": true,
   "toc_window_display": true
  }
 },
 "nbformat": 4,
 "nbformat_minor": 4
}
